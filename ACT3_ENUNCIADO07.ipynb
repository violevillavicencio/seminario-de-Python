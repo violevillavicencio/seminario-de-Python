{
  "cells": [
    {
      "cell_type": "markdown",
      "metadata": {
        "id": "view-in-github",
        "colab_type": "text"
      },
      "source": [
        "<a href=\"https://colab.research.google.com/github/violevillavicencio/seminario-de-Python/blob/main/ACT3_ENUNCIADO07.ipynb\" target=\"_parent\"><img src=\"https://colab.research.google.com/assets/colab-badge.svg\" alt=\"Open In Colab\"/></a>"
      ]
    },
    {
      "cell_type": "markdown",
      "id": "b015a19f",
      "metadata": {
        "id": "b015a19f"
      },
      "source": [
        "# Actividad 3 por Python plus\n",
        "\n",
        "En los [lineamientos](https://docs.google.com/document/d/1xUFfI7ji0LPRayk3M-2Jjmofi2LB38tlFFKhwu0CaRQ/edit?tab=t.0#heading=h.7thdb05c1731) dados para resolver esta actividad también se encuentra un enlace a la [grilla](https://docs.google.com/spreadsheets/d/1nNRtZygGv_cYYC2YAAfwrjCv8rSQCamC1wOBX1teP50/edit?gid=937426456#gid=937426456) con la que será calificada.\n",
        "\n",
        "Para realizar el ejercicio deben descargar el archivo denominado [logs_catedra.csv](https://archivos.linti.unlp.edu.ar/index.php/s/FWcrdV62Ds8qDra) y ubicarlo en una carpeta denomina **\"archivos\"**.\n",
        "\n",
        "\n",
        "\n",
        "\n",
        "Este archivo  contiene el registro de accesos al entorno catedras.linti correspondiente a nuestro curso."
      ]
    },
    {
      "cell_type": "markdown",
      "id": "c3af099f",
      "metadata": {
        "id": "c3af099f"
      },
      "source": [
        "## Parte I - CONSIGNA A RESOLVER"
      ]
    },
    {
      "cell_type": "markdown",
      "id": "fcabfa88",
      "metadata": {
        "id": "fcabfa88"
      },
      "source": [
        "**EJERCICIO 1.** Escribir una función que retorne los usuarios que realizaron la actividad 1 de Python plus de los estudiantes de CDO desde una IP que no pertenece a la facultad. Esta función recibe dos parámetros opcionales que indican el orden en que muestran los nombres de usuario (\"**A**\", si se ordenan en forma ascendente, \"**D**\" si es descendente o **None** si no se aplica ningún orden en particular) y si se incluye también la hora en la cual realizaron la actividad. Por defecto la función no ordena ni incluye la hora.\n",
        "\n",
        "**NOTA:** la información sobre la actividad 1 de Python plus  se obtiene  verificando que la columna  \"Nombre evento\" contenga el texto \"Intento de cuestionario actualizado\"  y la columna \"Contexto del evento\" contenga el texto \"Cuestionario: ACT 1  - CDO\".\n",
        "\n",
        "Las direcciones IP de la facultad comienza con \"163.10\".\n",
        "\n",
        "**EJERCICIO 2.** Utilizando la función anterior, escribir un programa que ingrese desde el teclado un menú de opciones que permita mostrar los usuarios que realizaron la actividad 1 de Python plus de CDO  desde una IP fuera de la facultad, ordenados alfabéticamente en forma ascendente, descendente o  o tal como aparecen en el dataset mostrando la hora en la cual realizaron la actividad."
      ]
    },
    {
      "cell_type": "markdown",
      "id": "58618511",
      "metadata": {
        "id": "58618511"
      },
      "source": [
        "## Solución\n",
        "\n",
        "### EJERCICIO 1"
      ]
    },
    {
      "cell_type": "code",
      "execution_count": 1,
      "id": "f7990b84",
      "metadata": {
        "colab": {
          "base_uri": "https://localhost:8080/",
          "height": 92
        },
        "id": "f7990b84",
        "outputId": "b1cd4333-209f-43c0-de85-4180902714a8"
      },
      "outputs": [
        {
          "output_type": "display_data",
          "data": {
            "text/plain": [
              "<IPython.core.display.HTML object>"
            ],
            "text/html": [
              "\n",
              "     <input type=\"file\" id=\"files-75b35814-3827-46c0-9795-4e04c438ef6a\" name=\"files[]\" multiple disabled\n",
              "        style=\"border:none\" />\n",
              "     <output id=\"result-75b35814-3827-46c0-9795-4e04c438ef6a\">\n",
              "      Upload widget is only available when the cell has been executed in the\n",
              "      current browser session. Please rerun this cell to enable.\n",
              "      </output>\n",
              "      <script>// Copyright 2017 Google LLC\n",
              "//\n",
              "// Licensed under the Apache License, Version 2.0 (the \"License\");\n",
              "// you may not use this file except in compliance with the License.\n",
              "// You may obtain a copy of the License at\n",
              "//\n",
              "//      http://www.apache.org/licenses/LICENSE-2.0\n",
              "//\n",
              "// Unless required by applicable law or agreed to in writing, software\n",
              "// distributed under the License is distributed on an \"AS IS\" BASIS,\n",
              "// WITHOUT WARRANTIES OR CONDITIONS OF ANY KIND, either express or implied.\n",
              "// See the License for the specific language governing permissions and\n",
              "// limitations under the License.\n",
              "\n",
              "/**\n",
              " * @fileoverview Helpers for google.colab Python module.\n",
              " */\n",
              "(function(scope) {\n",
              "function span(text, styleAttributes = {}) {\n",
              "  const element = document.createElement('span');\n",
              "  element.textContent = text;\n",
              "  for (const key of Object.keys(styleAttributes)) {\n",
              "    element.style[key] = styleAttributes[key];\n",
              "  }\n",
              "  return element;\n",
              "}\n",
              "\n",
              "// Max number of bytes which will be uploaded at a time.\n",
              "const MAX_PAYLOAD_SIZE = 100 * 1024;\n",
              "\n",
              "function _uploadFiles(inputId, outputId) {\n",
              "  const steps = uploadFilesStep(inputId, outputId);\n",
              "  const outputElement = document.getElementById(outputId);\n",
              "  // Cache steps on the outputElement to make it available for the next call\n",
              "  // to uploadFilesContinue from Python.\n",
              "  outputElement.steps = steps;\n",
              "\n",
              "  return _uploadFilesContinue(outputId);\n",
              "}\n",
              "\n",
              "// This is roughly an async generator (not supported in the browser yet),\n",
              "// where there are multiple asynchronous steps and the Python side is going\n",
              "// to poll for completion of each step.\n",
              "// This uses a Promise to block the python side on completion of each step,\n",
              "// then passes the result of the previous step as the input to the next step.\n",
              "function _uploadFilesContinue(outputId) {\n",
              "  const outputElement = document.getElementById(outputId);\n",
              "  const steps = outputElement.steps;\n",
              "\n",
              "  const next = steps.next(outputElement.lastPromiseValue);\n",
              "  return Promise.resolve(next.value.promise).then((value) => {\n",
              "    // Cache the last promise value to make it available to the next\n",
              "    // step of the generator.\n",
              "    outputElement.lastPromiseValue = value;\n",
              "    return next.value.response;\n",
              "  });\n",
              "}\n",
              "\n",
              "/**\n",
              " * Generator function which is called between each async step of the upload\n",
              " * process.\n",
              " * @param {string} inputId Element ID of the input file picker element.\n",
              " * @param {string} outputId Element ID of the output display.\n",
              " * @return {!Iterable<!Object>} Iterable of next steps.\n",
              " */\n",
              "function* uploadFilesStep(inputId, outputId) {\n",
              "  const inputElement = document.getElementById(inputId);\n",
              "  inputElement.disabled = false;\n",
              "\n",
              "  const outputElement = document.getElementById(outputId);\n",
              "  outputElement.innerHTML = '';\n",
              "\n",
              "  const pickedPromise = new Promise((resolve) => {\n",
              "    inputElement.addEventListener('change', (e) => {\n",
              "      resolve(e.target.files);\n",
              "    });\n",
              "  });\n",
              "\n",
              "  const cancel = document.createElement('button');\n",
              "  inputElement.parentElement.appendChild(cancel);\n",
              "  cancel.textContent = 'Cancel upload';\n",
              "  const cancelPromise = new Promise((resolve) => {\n",
              "    cancel.onclick = () => {\n",
              "      resolve(null);\n",
              "    };\n",
              "  });\n",
              "\n",
              "  // Wait for the user to pick the files.\n",
              "  const files = yield {\n",
              "    promise: Promise.race([pickedPromise, cancelPromise]),\n",
              "    response: {\n",
              "      action: 'starting',\n",
              "    }\n",
              "  };\n",
              "\n",
              "  cancel.remove();\n",
              "\n",
              "  // Disable the input element since further picks are not allowed.\n",
              "  inputElement.disabled = true;\n",
              "\n",
              "  if (!files) {\n",
              "    return {\n",
              "      response: {\n",
              "        action: 'complete',\n",
              "      }\n",
              "    };\n",
              "  }\n",
              "\n",
              "  for (const file of files) {\n",
              "    const li = document.createElement('li');\n",
              "    li.append(span(file.name, {fontWeight: 'bold'}));\n",
              "    li.append(span(\n",
              "        `(${file.type || 'n/a'}) - ${file.size} bytes, ` +\n",
              "        `last modified: ${\n",
              "            file.lastModifiedDate ? file.lastModifiedDate.toLocaleDateString() :\n",
              "                                    'n/a'} - `));\n",
              "    const percent = span('0% done');\n",
              "    li.appendChild(percent);\n",
              "\n",
              "    outputElement.appendChild(li);\n",
              "\n",
              "    const fileDataPromise = new Promise((resolve) => {\n",
              "      const reader = new FileReader();\n",
              "      reader.onload = (e) => {\n",
              "        resolve(e.target.result);\n",
              "      };\n",
              "      reader.readAsArrayBuffer(file);\n",
              "    });\n",
              "    // Wait for the data to be ready.\n",
              "    let fileData = yield {\n",
              "      promise: fileDataPromise,\n",
              "      response: {\n",
              "        action: 'continue',\n",
              "      }\n",
              "    };\n",
              "\n",
              "    // Use a chunked sending to avoid message size limits. See b/62115660.\n",
              "    let position = 0;\n",
              "    do {\n",
              "      const length = Math.min(fileData.byteLength - position, MAX_PAYLOAD_SIZE);\n",
              "      const chunk = new Uint8Array(fileData, position, length);\n",
              "      position += length;\n",
              "\n",
              "      const base64 = btoa(String.fromCharCode.apply(null, chunk));\n",
              "      yield {\n",
              "        response: {\n",
              "          action: 'append',\n",
              "          file: file.name,\n",
              "          data: base64,\n",
              "        },\n",
              "      };\n",
              "\n",
              "      let percentDone = fileData.byteLength === 0 ?\n",
              "          100 :\n",
              "          Math.round((position / fileData.byteLength) * 100);\n",
              "      percent.textContent = `${percentDone}% done`;\n",
              "\n",
              "    } while (position < fileData.byteLength);\n",
              "  }\n",
              "\n",
              "  // All done.\n",
              "  yield {\n",
              "    response: {\n",
              "      action: 'complete',\n",
              "    }\n",
              "  };\n",
              "}\n",
              "\n",
              "scope.google = scope.google || {};\n",
              "scope.google.colab = scope.google.colab || {};\n",
              "scope.google.colab._files = {\n",
              "  _uploadFiles,\n",
              "  _uploadFilesContinue,\n",
              "};\n",
              "})(self);\n",
              "</script> "
            ]
          },
          "metadata": {}
        },
        {
          "output_type": "stream",
          "name": "stdout",
          "text": [
            "Saving logs_catedra.csv to logs_catedra.csv\n",
            "[]\n"
          ]
        }
      ],
      "source": [
        "from google.colab import files\n",
        "import os\n",
        "import shutil\n",
        "import csv\n",
        "\n",
        "# Para subir el archivo\n",
        "uploaded = files.upload()\n",
        "\n",
        "# Creo la carpeta archivos si no existe, donde va a estar el archivo de logs\n",
        "if not os.path.exists('archivos'):\n",
        "    os.makedirs('archivos')\n",
        "\n",
        "# Aca se mueve el archivo subido a 'archivos/logs_catedra.csv'\n",
        "shutil.move('logs_catedra.csv', 'archivos/logs_catedra.csv')\n",
        "\n",
        "def usuarios_fuera_facultad(orden=None, incluir_hora=False):\n",
        "    res = []\n",
        "    #parametros agregados para mas seguridad al manejar el formato del archivo\n",
        "    with open('archivos/logs_catedra.csv', newline='', encoding='utf-8') as f:\n",
        "        lector = csv.DictReader(f)\n",
        "\n",
        "        for fila in lector:\n",
        "            evento = fila['Nombre evento']\n",
        "            contexto = fila['Contexto del evento']\n",
        "            ip = fila['Dirección IP']\n",
        "            user = fila['Nombre completo del usuario']\n",
        "            hora = fila['Hora']\n",
        "\n",
        "            if ('Intento de cuestionario actualizado' in evento and\n",
        "                'Cuestionario: ACT 1 - CDO' in contexto and\n",
        "                not ip.startswith('163.10')):\n",
        "\n",
        "                if incluir_hora:\n",
        "                    res.append((user, hora))\n",
        "                else:\n",
        "                    res.append(user)\n",
        "\n",
        "    res = list(set(res))\n",
        "\n",
        "    if orden == 'A':\n",
        "        res = sorted(res)\n",
        "    elif orden == 'D':\n",
        "        res = sorted(res, reverse=True)\n",
        "\n",
        "    return res\n",
        "\n",
        "usuarios = usuarios_fuera_facultad(orden=\"A\", incluir_hora=True)\n",
        "print(usuarios)"
      ]
    },
    {
      "cell_type": "markdown",
      "id": "63f6917e",
      "metadata": {
        "id": "63f6917e"
      },
      "source": [
        "### EJERCICIO 2"
      ]
    },
    {
      "cell_type": "code",
      "execution_count": null,
      "id": "8beed54b",
      "metadata": {
        "colab": {
          "background_save": true,
          "base_uri": "https://localhost:8080/"
        },
        "id": "8beed54b",
        "outputId": "33dbfcb9-21ef-4e2c-dd22-4c3a847b54b2"
      },
      "outputs": [
        {
          "output_type": "stream",
          "name": "stdout",
          "text": [
            "\n",
            "Selecciona una opción:\n",
            "1. Mostrar usuarios ordenados en forma ascendente\n",
            "2. Mostrar usuarios ordenados en forma descendente\n",
            "3. Mostrar usuarios sin ordenar y mostrando la hora\n",
            "4. Salir\n"
          ]
        }
      ],
      "source": [
        "print(\"\\nSelecciona una opción:\")\n",
        "print(\"1. Mostrar usuarios ordenados en forma ascendente\")\n",
        "print(\"2. Mostrar usuarios ordenados en forma descendente\")\n",
        "print(\"3. Mostrar usuarios sin ordenar y mostrando la hora\")\n",
        "print(\"4. Salir\")\n",
        "\n",
        "opcion = input(\"Ingresa una opción: \")\n",
        "\n",
        "if opcion == '1':\n",
        "    usuarios = usuarios_fuera_facultad(orden=\"A\", incluir_hora=True)\n",
        "    for usuario, hora in usuarios:\n",
        "        print(f\"Usuario: {usuario}, Hora: {hora}\")\n",
        "elif opcion == '2':\n",
        "    usuarios = usuarios_fuera_facultad(orden=\"D\", incluir_hora=True)\n",
        "    for usuario, hora in usuarios:\n",
        "        print(f\"Usuario: {usuario}, Hora: {hora}\")\n",
        "elif opcion == '3':\n",
        "    usuarios = usuarios_fuera_facultad(orden=None, incluir_hora=True)\n",
        "    for usuario, hora in usuarios:\n",
        "        print(f\"Usuario: {usuario}, Hora: {hora}\")\n",
        "elif opcion == '4':\n",
        "    print(\"Saliendo...\")\n",
        "else:\n",
        "    print(\"Opción no válida.\")"
      ]
    },
    {
      "cell_type": "markdown",
      "id": "cf6fe10e",
      "metadata": {
        "id": "cf6fe10e"
      },
      "source": [
        "## Parte II - CUESTIONARIO\n",
        "\n",
        "Respondé las siguientes preguntas:"
      ]
    },
    {
      "cell_type": "markdown",
      "id": "07995f41",
      "metadata": {
        "id": "07995f41"
      },
      "source": [
        "1. **¿Qué estructuras de datos usaste para el manejo de los datos ingresados desde el archivo? ¿Por qué te parece la más adecuada?**"
      ]
    },
    {
      "cell_type": "markdown",
      "id": "aa65c3e8",
      "metadata": {
        "id": "aa65c3e8"
      },
      "source": [
        "**RTA.**\n",
        "\n",
        "Usé listas para almacenar los usuarios y las horas, ya que permiten mantener el orden de inserción. Usé el set para eliminar duplicados. Y tambien usé csv.DictReader para convertir cada fila en un diccionario, que facilita acceder a los datos por nombre de columna. Estas estructuras me parecen adecuadas porque me permiten manejar los datos de forma eficiente y accesible, manteniendo el orden y eliminando entradas duplicadas.\n"
      ]
    },
    {
      "cell_type": "markdown",
      "id": "7cc3ef0d",
      "metadata": {
        "id": "7cc3ef0d"
      },
      "source": [
        "2. **¿Usaste map o filter? Explicá detalladamente la solución y  por qué decidiste usarla o por qué no lo hiciste.**"
      ]
    },
    {
      "cell_type": "markdown",
      "id": "fb8761ad",
      "metadata": {
        "id": "fb8761ad"
      },
      "source": [
        "**RTA.**\n",
        "\n",
        "No usé map ni filter porque la lógica de filtrado era simple y se podía manejar con un bucle for, lo que se me hizo más claro y fácil de entender. Aunque filter podría haberse usado para filtrar eventos, las condiciones específicas de los campos que puse en el if hacen que el uso de un bucle mas directo para este caso."
      ]
    },
    {
      "cell_type": "markdown",
      "id": "6eede981",
      "metadata": {
        "id": "6eede981"
      },
      "source": [
        "## Parte III - INTERACCIÓN CON LA IA\n",
        "\n",
        "Respondé las siguientes preguntas:"
      ]
    },
    {
      "cell_type": "markdown",
      "id": "9d5a2fb5",
      "metadata": {
        "id": "9d5a2fb5"
      },
      "source": [
        "1. **Mostrá una solución dada por una IA a este ejercicio y respondé:**"
      ]
    },
    {
      "cell_type": "code",
      "execution_count": null,
      "id": "f2d1fd27",
      "metadata": {
        "id": "f2d1fd27"
      },
      "outputs": [],
      "source": [
        "import pandas as pd\n",
        "\n",
        "def usuarios_actividad1_fuera_facultad(orden=None, incluir_hora=False):\n",
        "    # Leer el archivo\n",
        "    df = pd.read_csv('archivos/logs_catedra.csv')\n",
        "\n",
        "    # Filtrar por actividad y contexto\n",
        "    filtro = (\n",
        "        df['Nombre evento'].str.contains('Intento de cuestionario actualizado', na=False) &\n",
        "        df['Contexto del evento'].str.contains('Cuestionario: ACT 1 - CDO', na=False) &\n",
        "        ~df['Dirección IP'].str.startswith('163.10')\n",
        "    )\n",
        "    df_filtrado = df[filtro]\n",
        "\n",
        "    # Seleccionar columnas necesarias\n",
        "    if incluir_hora:\n",
        "        resultado = df_filtrado[['Usuario', 'Hora']]\n",
        "    else:\n",
        "        resultado = df_filtrado[['Usuario']]\n",
        "\n",
        "    # Eliminar duplicados si hay\n",
        "    resultado = resultado.drop_duplicates()\n",
        "\n",
        "    # Ordenar si corresponde\n",
        "    if orden == \"A\":\n",
        "        resultado = resultado.sort_values(by='Usuario', ascending=True)\n",
        "    elif orden == \"D\":\n",
        "        resultado = resultado.sort_values(by='Usuario', ascending=False)\n",
        "\n",
        "    # Convertir a lista de tuplas si incluye hora, o lista de usuarios\n",
        "    if incluir_hora:\n",
        "        return list(resultado.itertuples(index=False, name=None))\n",
        "    else:\n",
        "        return list(resultado['Usuario'])\n",
        "\n",
        "# Ejemplo de uso\n",
        "# usuarios = usuarios_actividad1_fuera_facultad(orden=\"A\", incluir_hora=True)\n",
        "# print(usuarios)"
      ]
    },
    {
      "cell_type": "markdown",
      "id": "7ba9f734",
      "metadata": {
        "id": "7ba9f734"
      },
      "source": [
        "2. **¿Qué IA utilizaste? En la respuesta dada, ¿se incluyen funciones o métodos no dados por la cátedra?**"
      ]
    },
    {
      "cell_type": "markdown",
      "id": "1ae1a977",
      "metadata": {
        "id": "1ae1a977"
      },
      "source": [
        "**RTA.**\n",
        "\n",
        "Esta respuesta me la dio chatgpt, si utiliza metodos no vistos y la libreria pandas que todavia no la usamos\n",
        "\n"
      ]
    },
    {
      "cell_type": "markdown",
      "id": "ae3ebc0c",
      "metadata": {
        "id": "ae3ebc0c"
      },
      "source": [
        "2.  **Según tu experiencia, ¿la solución brindada por la IA es mejor o no respecto a la tuya?**"
      ]
    },
    {
      "cell_type": "markdown",
      "id": "1857fe7e",
      "metadata": {
        "id": "1857fe7e"
      },
      "source": [
        "**RTA.**\n",
        "\n",
        "Seguramente sea batante mas eficiente. Pero creo que mi solucion es mas clara y entendible para alguien que quiera saber que hace el codigo sin saber programar."
      ]
    }
  ],
  "metadata": {
    "colab": {
      "provenance": [],
      "include_colab_link": true
    },
    "kernelspec": {
      "display_name": "Python 3 (ipykernel)",
      "language": "python",
      "name": "python3"
    },
    "language_info": {
      "codemirror_mode": {
        "name": "ipython",
        "version": 3
      },
      "file_extension": ".py",
      "mimetype": "text/x-python",
      "name": "python",
      "nbconvert_exporter": "python",
      "pygments_lexer": "ipython3",
      "version": "3.11.12"
    }
  },
  "nbformat": 4,
  "nbformat_minor": 5
}